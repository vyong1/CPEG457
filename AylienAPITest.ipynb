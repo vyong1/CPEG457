{
 "cells": [
  {
   "cell_type": "code",
   "execution_count": 30,
   "metadata": {},
   "outputs": [
    {
     "name": "stdout",
     "output_type": "stream",
     "text": [
      "Analysis | Washington Redskins 2018 NFL draft guide: Team needs, targets, latest rumors\n",
      "https://www.washingtonpost.com/news/football-insider/wp/2018/04/25/washington-redskins-2018-nfl-draft-guide/\n",
      "Analysis | The Redskins have the No. 13 pick in the draft. Historically, that’s been a good spot.\n",
      "https://www.washingtonpost.com/news/football-insider/wp/2018/04/24/the-redskins-have-the-no-13-overall-pick-in-the-draft-historically-thats-been-a-good-spot/\n",
      "Analysis | Guard isn’t a sexy position, but the position’s value is rising and the Redskins are in need\n",
      "https://www.washingtonpost.com/news/football-insider/wp/2018/04/19/guard-isnt-a-sexy-position-but-the-positions-value-is-rising-and-the-redskins-are-in-need/\n",
      "Analysis | New Redskins LB Pernell McPhee feeling healthy, ready to move forward\n",
      "https://www.washingtonpost.com/news/football-insider/wp/2018/04/18/new-redskins-lb-pernell-mcphee-feeling-healthy-ready-to-move-forward/\n",
      "Analysis | Redskins’ quiet 2018 offseason could be in preparation for upcoming extensions\n",
      "https://www.washingtonpost.com/news/football-insider/wp/2018/04/18/redskins-quiet-2018-offseason-could-be-in-preparation-for-upcoming-extensions/\n",
      "'A clean, motivational start:' Pernell McPhee ready to move forward with the Redskins\n",
      "http://www.chicagotribune.com/sports/football/bears/ct-spt-pernell-mcphee-redskins-bears-20180418-story.html\n",
      "Analysis | Ryan Kerrigan sees opportunity in offseason attrition on defense\n",
      "https://www.washingtonpost.com/news/football-insider/wp/2018/04/17/ryan-kerrigan-sees-opportunity-in-offseason-attrition-on-defense/\n",
      "Vernon Davis thrilled to be reunited with Alex Smith; Redskins lock up O-linemen\n",
      "https://www.washingtonpost.com/news/football-insider/wp/2018/04/16/vernon-davis-thrilled-to-be-reunited-with-alex-smith-redskins-lock-up-o-linemen/\n",
      "Analysis | The Washington Redskins adding Dez Bryant would be fun. Here’s why it’s highly unlikely.\n",
      "https://www.washingtonpost.com/news/football-insider/wp/2018/04/13/the-washington-redskins-adding-dez-bryant-would-be-fun-heres-why-its-highly-unlikely/\n",
      "Analysis | Who should the Redskins draft?: Tremaine Edmunds vs. Vita Vea\n",
      "https://www.washingtonpost.com/news/football-insider/wp/2018/04/13/who-should-the-redskins-draft-tremaine-edmunds-vs-vita-vea/\n",
      "API called successfully. Rate limit headers are as follows:\n"
     ]
    },
    {
     "ename": "TypeError",
     "evalue": "'Stories' object does not support indexing",
     "output_type": "error",
     "traceback": [
      "\u001b[1;31m---------------------------------------------------------------------------\u001b[0m",
      "\u001b[1;31mTypeError\u001b[0m                                 Traceback (most recent call last)",
      "\u001b[1;32m<ipython-input-30-be7e29eb0e93>\u001b[0m in \u001b[0;36m<module>\u001b[1;34m()\u001b[0m\n\u001b[0;32m     21\u001b[0m         \u001b[0mprint\u001b[0m\u001b[1;33m(\u001b[0m\u001b[0melement\u001b[0m\u001b[1;33m.\u001b[0m\u001b[0mlinks\u001b[0m\u001b[1;33m.\u001b[0m\u001b[0mpermalink\u001b[0m\u001b[1;33m)\u001b[0m\u001b[1;33m\u001b[0m\u001b[0m\n\u001b[0;32m     22\u001b[0m     \u001b[0mprint\u001b[0m\u001b[1;33m(\u001b[0m\u001b[1;34m'API called successfully. Rate limit headers are as follows:'\u001b[0m\u001b[1;33m)\u001b[0m\u001b[1;33m\u001b[0m\u001b[0m\n\u001b[1;32m---> 23\u001b[1;33m     \u001b[0mprint\u001b[0m\u001b[1;33m(\u001b[0m\u001b[1;34m\"X-RateLimit-Limit: %s\"\u001b[0m \u001b[1;33m%\u001b[0m \u001b[0mapi_response\u001b[0m\u001b[1;33m[\u001b[0m\u001b[1;36m2\u001b[0m\u001b[1;33m]\u001b[0m\u001b[1;33m[\u001b[0m\u001b[1;34m'X-RateLimit-Limit'\u001b[0m\u001b[1;33m]\u001b[0m\u001b[1;33m)\u001b[0m\u001b[1;33m\u001b[0m\u001b[0m\n\u001b[0m\u001b[0;32m     24\u001b[0m     \u001b[0mprint\u001b[0m\u001b[1;33m(\u001b[0m\u001b[1;34m\"X-RateLimit-Remaining: %s\"\u001b[0m \u001b[1;33m%\u001b[0m \u001b[0mapi_response\u001b[0m\u001b[1;33m[\u001b[0m\u001b[1;36m2\u001b[0m\u001b[1;33m]\u001b[0m\u001b[1;33m[\u001b[0m\u001b[1;34m'X-RateLimit-Remaining'\u001b[0m\u001b[1;33m]\u001b[0m\u001b[1;33m)\u001b[0m\u001b[1;33m\u001b[0m\u001b[0m\n\u001b[0;32m     25\u001b[0m     \u001b[0mprint\u001b[0m\u001b[1;33m(\u001b[0m\u001b[1;34m\"X-RateLimit-Reset: %s\"\u001b[0m \u001b[1;33m%\u001b[0m \u001b[0mapi_response\u001b[0m\u001b[1;33m[\u001b[0m\u001b[1;36m2\u001b[0m\u001b[1;33m]\u001b[0m\u001b[1;33m[\u001b[0m\u001b[1;34m'X-RateLimit-Reset'\u001b[0m\u001b[1;33m]\u001b[0m\u001b[1;33m)\u001b[0m\u001b[1;33m\u001b[0m\u001b[0m\n",
      "\u001b[1;31mTypeError\u001b[0m: 'Stories' object does not support indexing"
     ]
    }
   ],
   "source": [
    "import aylien_news_api\n",
    "from aylien_news_api.rest import ApiException\n",
    "\n",
    "# Configure API key authorization: app_id\n",
    "aylien_news_api.configuration.api_key['X-AYLIEN-NewsAPI-Application-ID'] = 'c45042a9'\n",
    "# Configure API key authorization: app_key\n",
    "aylien_news_api.configuration.api_key['X-AYLIEN-NewsAPI-Application-Key'] = 'a9270fe1446fc3fb7c8e8196ed52e626'\n",
    "\n",
    "# create an instance of the API class\n",
    "api_instance = aylien_news_api.DefaultApi()\n",
    "\n",
    "opts = {\n",
    "  'author_name': 'Kareem Copeland'\n",
    "}\n",
    "\n",
    "try:\n",
    "    # List stories\n",
    "    api_response = api_instance.list_stories(**opts)\n",
    "    for element in api_response.stories:\n",
    "        print(element.title)\n",
    "        print(element.links.permalink)\n",
    "    print('API called successfully. Rate limit headers are as follows:')\n",
    "    print(\"X-RateLimit-Limit: %s\" % api_response[2]['X-RateLimit-Limit'])\n",
    "    print(\"X-RateLimit-Remaining: %s\" % api_response[2]['X-RateLimit-Remaining'])\n",
    "    print(\"X-RateLimit-Reset: %s\" % api_response[2]['X-RateLimit-Reset'])\n",
    "except ApiException as e:\n",
    "    print(\"Exception when calling DefaultApi->list_stories: %sn\" % e)"
   ]
  },
  {
   "cell_type": "code",
   "execution_count": null,
   "metadata": {},
   "outputs": [],
   "source": []
  }
 ],
 "metadata": {
  "kernelspec": {
   "display_name": "Python 3",
   "language": "python",
   "name": "python3"
  },
  "language_info": {
   "codemirror_mode": {
    "name": "ipython",
    "version": 3
   },
   "file_extension": ".py",
   "mimetype": "text/x-python",
   "name": "python",
   "nbconvert_exporter": "python",
   "pygments_lexer": "ipython3",
   "version": "3.6.4"
  }
 },
 "nbformat": 4,
 "nbformat_minor": 2
}
