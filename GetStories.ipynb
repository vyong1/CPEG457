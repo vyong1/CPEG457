{
 "cells": [
  {
   "cell_type": "code",
   "execution_count": 2,
   "metadata": {},
   "outputs": [
    {
     "name": "stdout",
     "output_type": "stream",
     "text": [
      "Trump silent on porn star payment storm at National Day of Prayer\n",
      "http://rss.cnn.com/~r/rss/cnn_latest/~3/uG1BvF4PDlc/index.html\n",
      "Will he or won't he? Trump's stance on Mueller testimony\n",
      "http://rss.cnn.com/~r/rss/cnn_latest/~3/BEfhxFZlyvI/index.html\n",
      "Trump rips Justice Department in stinging set of tweets\n",
      "https://www.cnn.com/2018/05/02/politics/donald-trump-justice-department/index.html\n",
      "Trump threatens to take on Justice Department's 'rigged system'\n",
      "http://rss.cnn.com/~r/rss/cnn_latest/~3/OvJ_3x15iGc/index.html\n",
      "White House claims 'clerical error' led to drastic change in Iran statement\n",
      "http://rss.cnn.com/~r/rss/cnn_latest/~3/QxjHUVIlGAg/index.html\n",
      "Trump welcomes first leader from sub-Saharan Africa\n",
      "http://rss.cnn.com/~r/rss/cnn_latest/~3/tWoU5UIX4U0/index.html\n",
      "Trump praises Jackson, says he was smeared\n",
      "http://www.wiscnews.com/video/featured/trump-praises-jackson-says-he-was-smeared/article_ebe694de-f941-595b-81be-9f318b9e57af.html\n",
      "Trump says two sites on table for Kim talks\n",
      "https://www.cnn.com/2018/04/27/politics/trump-north-korea/index.html\n",
      "Trump's backslapping diplomacy gives way to sterner talks with Merkel\n",
      "https://www.cnn.com/2018/04/27/politics/donald-trump-angela-merkel-germany/index.html\n",
      "Trump praises Jackson, says he was smeared\n",
      "http://rss.cnn.com/~r/rss/cnn_latest/~3/djsG7inCXho/index.html\n"
     ]
    }
   ],
   "source": [
    "import aylien_news_api\n",
    "from aylien_news_api.rest import ApiException\n",
    "\n",
    "# Configure API key authorization: app_id\n",
    "aylien_news_api.configuration.api_key['X-AYLIEN-NewsAPI-Application-ID'] = 'c45042a9'\n",
    "# Configure API key authorization: app_key\n",
    "aylien_news_api.configuration.api_key['X-AYLIEN-NewsAPI-Application-Key'] = 'a9270fe1446fc3fb7c8e8196ed52e626'\n",
    "\n",
    "# create an instance of the API class\n",
    "api_instance = aylien_news_api.DefaultApi()\n",
    "\n",
    "\n",
    "def getStories(author_name):\n",
    "    # Takes in authors name, sets it as an option for the api\n",
    "    opts = {\n",
    "      'author_name': author_name\n",
    "    }\n",
    "\n",
    "    try:\n",
    "        # Creates an associative array of the stories\n",
    "        api_response = api_instance.list_stories(**opts)\n",
    "        return api_response\n",
    "    except ApiException as e:\n",
    "        print(\"Exception when calling DefaultApi->list_stories: %sn\" % e)\n",
    "        \n",
    "        \n",
    "author = \"Kevin Liptak\"\n",
    "api_response = getStories(author)\n",
    "for element in api_response.stories:\n",
    "        print(element.title)\n",
    "        print(element.links.permalink)\n"
   ]
  },
  {
   "cell_type": "code",
   "execution_count": null,
   "metadata": {},
   "outputs": [],
   "source": []
  }
 ],
 "metadata": {
  "kernelspec": {
   "display_name": "Python 3",
   "language": "python",
   "name": "python3"
  },
  "language_info": {
   "codemirror_mode": {
    "name": "ipython",
    "version": 3
   },
   "file_extension": ".py",
   "mimetype": "text/x-python",
   "name": "python",
   "nbconvert_exporter": "python",
   "pygments_lexer": "ipython3",
   "version": "3.6.4"
  }
 },
 "nbformat": 4,
 "nbformat_minor": 2
}
